{
  "nbformat": 4,
  "nbformat_minor": 0,
  "metadata": {
    "colab": {
      "provenance": []
    },
    "kernelspec": {
      "name": "python3",
      "display_name": "Python 3"
    },
    "language_info": {
      "name": "python"
    }
  },
  "cells": [
    {
      "cell_type": "code",
      "execution_count": null,
      "metadata": {
        "id": "MIHZ8_vEyGEd"
      },
      "outputs": [],
      "source": []
    },
    {
      "cell_type": "markdown",
      "source": [
        "# New Section"
      ],
      "metadata": {
        "id": "X4cSo_w0yJ4m"
      }
    },
    {
      "cell_type": "code",
      "source": [
        "from google.colab import drive\n",
        "drive.mount('/content/drive')"
      ],
      "metadata": {
        "colab": {
          "base_uri": "https://localhost:8080/"
        },
        "id": "bT2WdU5vyPBG",
        "outputId": "39cb2f28-9642-4280-f1aa-c602270ee346"
      },
      "execution_count": null,
      "outputs": [
        {
          "output_type": "stream",
          "name": "stdout",
          "text": [
            "Mounted at /content/drive\n"
          ]
        }
      ]
    },
    {
      "cell_type": "code",
      "source": [
        "# Define paths to the dataset\n",
        "train_dir = '/content/drive/MyDrive/train'  # Update with your actual path\n",
        "test_dir = '/content/drive/MyDrive/test'    # Update with your actual path"
      ],
      "metadata": {
        "id": "DTPsry1-yyyu"
      },
      "execution_count": null,
      "outputs": []
    },
    {
      "cell_type": "code",
      "source": [
        "import os\n",
        "print(len(os.listdir('/content/drive/MyDrive/train/icecream')))\n",
        "print(len(os.listdir('/content/drive/MyDrive/train/pizza')))\n",
        "print(len(os.listdir('/content/drive/MyDrive/test/icecream')))\n",
        "print(len(os.listdir('/content/drive/MyDrive/test/pizza')))"
      ],
      "metadata": {
        "colab": {
          "base_uri": "https://localhost:8080/"
        },
        "id": "1qces8kBy8oD",
        "outputId": "07ac7fe7-d839-49f3-fc66-c08540ecfd06"
      },
      "execution_count": null,
      "outputs": [
        {
          "output_type": "stream",
          "name": "stdout",
          "text": [
            "391\n",
            "327\n",
            "59\n",
            "47\n"
          ]
        }
      ]
    },
    {
      "cell_type": "code",
      "source": [
        "import tensorflow as tf\n",
        "from tensorflow.keras.preprocessing.image import ImageDataGenerator\n",
        "\n",
        "# Create ImageDataGenerator for training set\n",
        "train_datagen = ImageDataGenerator(\n",
        "    rescale=1./255,\n",
        "    validation_split=0.2  # Split 20% of the images for validation\n",
        ")\n",
        "\n",
        "# Load and prepare training data\n",
        "train_data = train_datagen.flow_from_directory(\n",
        "    train_dir,\n",
        "    target_size=(256,256),\n",
        "    batch_size=32,\n",
        "    class_mode='binary',  # 'binary' for binary classification (pizza vs. icecream)\n",
        "    subset='training'  # Specify 'training' for the training set\n",
        ")\n",
        "\n",
        "# Create ImageDataGenerator for validation set\n",
        "validation_datagen = ImageDataGenerator(\n",
        "    rescale=1./255,\n",
        "    validation_split=0.2  # Note: Using the same validation split as in the training set\n",
        ")\n",
        "\n",
        "# Load and prepare validation data\n",
        "validation_data = validation_datagen.flow_from_directory(\n",
        "    train_dir,\n",
        "    target_size=(256,256),\n",
        "    batch_size=32,\n",
        "    class_mode='binary',\n",
        "    subset='validation'  # Specify 'validation' for the validation set\n",
        ")"
      ],
      "metadata": {
        "colab": {
          "base_uri": "https://localhost:8080/"
        },
        "id": "1mG2Dbs9zacd",
        "outputId": "8200fdba-82b2-480c-8b00-1901dfde3e37"
      },
      "execution_count": null,
      "outputs": [
        {
          "output_type": "stream",
          "name": "stdout",
          "text": [
            "Found 575 images belonging to 2 classes.\n",
            "Found 143 images belonging to 2 classes.\n"
          ]
        }
      ]
    },
    {
      "cell_type": "code",
      "source": [
        "from tensorflow import keras\n",
        "from keras import Sequential\n",
        "from keras.layers import Dense,Conv2D,MaxPooling2D,Flatten\n",
        "\n",
        "resnet_model = Sequential()    #ResNet50 is a pre-trained model\n",
        "pretrained_model = tf.keras.applications.ResNet50(include_top = False, #because i have my own image of a diff dimension\n",
        "                                                input_shape = (256,256,3),\n",
        "                                                pooling = 'max', classes = 2,\n",
        "                                                weights = 'imagenet')\n",
        "for layer in pretrained_model.layers:\n",
        "    layer.trainable = False  #all layers in the Resnet50 is not trainable; keep those weights; I am going to add my own i/p and other layers\n",
        "\n",
        "resnet_model.add(pretrained_model)\n",
        "resnet_model.add(Flatten())\n",
        "resnet_model.add(Dense(512, activation = 'relu'))\n",
        "resnet_model.add(Dense(1, activation = 'sigmoid'))"
      ],
      "metadata": {
        "colab": {
          "base_uri": "https://localhost:8080/"
        },
        "id": "IK6ajEEb0lxz",
        "outputId": "18339135-3e7b-4acb-9bfa-503304db0e94"
      },
      "execution_count": null,
      "outputs": [
        {
          "output_type": "stream",
          "name": "stdout",
          "text": [
            "Downloading data from https://storage.googleapis.com/tensorflow/keras-applications/resnet/resnet50_weights_tf_dim_ordering_tf_kernels_notop.h5\n",
            "94765736/94765736 [==============================] - 0s 0us/step\n"
          ]
        }
      ]
    },
    {
      "cell_type": "code",
      "source": [
        "resnet_model.summary()"
      ],
      "metadata": {
        "colab": {
          "base_uri": "https://localhost:8080/"
        },
        "id": "ApJQbG6D1N9A",
        "outputId": "8a06a25a-152d-4514-8326-5ffe488cb478"
      },
      "execution_count": null,
      "outputs": [
        {
          "output_type": "stream",
          "name": "stdout",
          "text": [
            "Model: \"sequential\"\n",
            "_________________________________________________________________\n",
            " Layer (type)                Output Shape              Param #   \n",
            "=================================================================\n",
            " resnet50 (Functional)       (None, 2048)              23587712  \n",
            "                                                                 \n",
            " flatten (Flatten)           (None, 2048)              0         \n",
            "                                                                 \n",
            " dense (Dense)               (None, 512)               1049088   \n",
            "                                                                 \n",
            " dense_1 (Dense)             (None, 1)                 513       \n",
            "                                                                 \n",
            "=================================================================\n",
            "Total params: 24637313 (93.98 MB)\n",
            "Trainable params: 1049601 (4.00 MB)\n",
            "Non-trainable params: 23587712 (89.98 MB)\n",
            "_________________________________________________________________\n"
          ]
        }
      ]
    },
    {
      "cell_type": "code",
      "source": [
        "from keras.optimizers import Adam\n",
        "resnet_model.compile(optimizer=Adam(learning_rate=0.001),loss='binary_crossentropy',metrics=['accuracy']) #binary_crossentropy - binary classification"
      ],
      "metadata": {
        "id": "T3iwbUm91acf"
      },
      "execution_count": null,
      "outputs": []
    },
    {
      "cell_type": "code",
      "source": [
        "history = resnet_model.fit(train_data, epochs=3, validation_data=validation_data)"
      ],
      "metadata": {
        "colab": {
          "base_uri": "https://localhost:8080/"
        },
        "id": "t_hWfbun1oN-",
        "outputId": "38596b2b-3224-499c-feae-e6fe572289e4"
      },
      "execution_count": null,
      "outputs": [
        {
          "output_type": "stream",
          "name": "stdout",
          "text": [
            "Epoch 1/3\n",
            "18/18 [==============================] - 293s 16s/step - loss: 3.1367 - accuracy: 0.5496 - val_loss: 1.2144 - val_accuracy: 0.5245\n",
            "Epoch 2/3\n",
            "18/18 [==============================] - 201s 11s/step - loss: 0.6540 - accuracy: 0.7165 - val_loss: 0.6043 - val_accuracy: 0.6923\n",
            "Epoch 3/3\n",
            "18/18 [==============================] - 214s 12s/step - loss: 0.4430 - accuracy: 0.7791 - val_loss: 0.4901 - val_accuracy: 0.7413\n"
          ]
        }
      ]
    },
    {
      "cell_type": "code",
      "source": [
        "import matplotlib.pyplot as plt\n",
        "\n",
        "plt.plot(history.history['accuracy'],color='red',label='train')\n",
        "plt.plot(history.history['val_accuracy'],color='blue',label='validation')\n",
        "plt.legend()\n",
        "plt.show()"
      ],
      "metadata": {
        "colab": {
          "base_uri": "https://localhost:8080/",
          "height": 430
        },
        "id": "CyAeV8RH5Flt",
        "outputId": "195b89fc-be0e-4e50-f5a6-598f30120bac"
      },
      "execution_count": null,
      "outputs": [
        {
          "output_type": "display_data",
          "data": {
            "text/plain": [
              "<Figure size 640x480 with 1 Axes>"
            ],
            "image/png": "[encoded data removed]"
          },
          "metadata": {}
        }
      ]
    },
    {
      "cell_type": "code",
      "source": [
        "plt.plot(history.history['loss'],color='red',label='train')\n",
        "plt.plot(history.history['val_loss'],color='blue',label='validation')\n",
        "plt.legend()\n",
        "plt.show()"
      ],
      "metadata": {
        "colab": {
          "base_uri": "https://localhost:8080/",
          "height": 430
        },
        "id": "Y8_ME6JE56oS",
        "outputId": "b75d7949-9903-4d8c-9a32-b29fe0103d38"
      },
      "execution_count": null,
      "outputs": [
        {
          "output_type": "display_data",
          "data": {
            "text/plain": [
              "<Figure size 640x480 with 1 Axes>"
            ],
            "image/png": "[encoded data removed]"
          },
          "metadata": {}
        }
      ]
    },
    {
      "cell_type": "code",
      "source": [
        "test_datagen = ImageDataGenerator(rescale=1./255)\n",
        "test_data = test_datagen.flow_from_directory(\n",
        "    test_dir,\n",
        "    target_size=(256,256),\n",
        "    batch_size=32,\n",
        "    class_mode='binary'\n",
        ")"
      ],
      "metadata": {
        "colab": {
          "base_uri": "https://localhost:8080/"
        },
        "id": "4dG31ZuU6FAZ",
        "outputId": "635dd887-4f64-435b-bddf-5fed87ec7173"
      },
      "execution_count": null,
      "outputs": [
        {
          "output_type": "stream",
          "name": "stdout",
          "text": [
            "Found 106 images belonging to 2 classes.\n"
          ]
        }
      ]
    },
    {
      "cell_type": "code",
      "source": [
        "#predict the test data\n",
        "predictions = resnet_model.predict(test_data)\n",
        "print(predictions)"
      ],
      "metadata": {
        "colab": {
          "base_uri": "https://localhost:8080/"
        },
        "id": "a5lf4XwF6Rii",
        "outputId": "311aec74-4524-4be3-d857-999d0c022801"
      },
      "execution_count": null,
      "outputs": [
        {
          "output_type": "stream",
          "name": "stdout",
          "text": [
            "4/4 [==============================] - 39s 9s/step\n",
            "[[0.74687815]\n",
            " [0.8006523 ]\n",
            " [0.8983856 ]\n",
            " [0.87624574]\n",
            " [0.53141165]\n",
            " [0.613287  ]\n",
            " [0.17807727]\n",
            " [0.5953573 ]\n",
            " [0.98656887]\n",
            " [0.32115796]\n",
            " [0.8641377 ]\n",
            " [0.29178965]\n",
            " [0.44981915]\n",
            " [0.6740209 ]\n",
            " [0.5258044 ]\n",
            " [0.253697  ]\n",
            " [0.13172121]\n",
            " [0.3412144 ]\n",
            " [0.6800421 ]\n",
            " [0.68633276]\n",
            " [0.95366883]\n",
            " [0.5475984 ]\n",
            " [0.99564046]\n",
            " [0.0809917 ]\n",
            " [0.34105843]\n",
            " [0.9494465 ]\n",
            " [0.2139043 ]\n",
            " [0.23309791]\n",
            " [0.1257358 ]\n",
            " [0.9134896 ]\n",
            " [0.23720686]\n",
            " [0.89040625]\n",
            " [0.47996604]\n",
            " [0.9725725 ]\n",
            " [0.7661646 ]\n",
            " [0.51750106]\n",
            " [0.6959424 ]\n",
            " [0.4593176 ]\n",
            " [0.12089255]\n",
            " [0.09967153]\n",
            " [0.75905895]\n",
            " [0.95299804]\n",
            " [0.93606186]\n",
            " [0.17807727]\n",
            " [0.31756058]\n",
            " [0.98606765]\n",
            " [0.28501424]\n",
            " [0.9581252 ]\n",
            " [0.7179477 ]\n",
            " [0.27418035]\n",
            " [0.16670664]\n",
            " [0.34031925]\n",
            " [0.2457671 ]\n",
            " [0.5672976 ]\n",
            " [0.12464853]\n",
            " [0.7252626 ]\n",
            " [0.14077169]\n",
            " [0.2945114 ]\n",
            " [0.95915216]\n",
            " [0.25772285]\n",
            " [0.52911365]\n",
            " [0.79523027]\n",
            " [0.905707  ]\n",
            " [0.16145878]\n",
            " [0.177213  ]\n",
            " [0.46447825]\n",
            " [0.62042433]\n",
            " [0.3122759 ]\n",
            " [0.137511  ]\n",
            " [0.1908626 ]\n",
            " [0.33936727]\n",
            " [0.78168684]\n",
            " [0.4146027 ]\n",
            " [0.9635994 ]\n",
            " [0.16033831]\n",
            " [0.37507045]\n",
            " [0.8382166 ]\n",
            " [0.27944943]\n",
            " [0.6933725 ]\n",
            " [0.6433937 ]\n",
            " [0.33664387]\n",
            " [0.25772285]\n",
            " [0.6033516 ]\n",
            " [0.12528051]\n",
            " [0.90307915]\n",
            " [0.23663361]\n",
            " [0.7589778 ]\n",
            " [0.1959498 ]\n",
            " [0.93018836]\n",
            " [0.5195488 ]\n",
            " [0.95456094]\n",
            " [0.8244477 ]\n",
            " [0.9339591 ]\n",
            " [0.11446526]\n",
            " [0.30492517]\n",
            " [0.22908536]\n",
            " [0.21184537]\n",
            " [0.7745194 ]\n",
            " [0.9467267 ]\n",
            " [0.20236196]\n",
            " [0.9720944 ]\n",
            " [0.38355705]\n",
            " [0.18704037]\n",
            " [0.34105843]\n",
            " [0.30148235]\n",
            " [0.14777742]]\n"
          ]
        }
      ]
    },
    {
      "cell_type": "code",
      "source": [
        "len(predictions)"
      ],
      "metadata": {
        "colab": {
          "base_uri": "https://localhost:8080/"
        },
        "id": "njQEQjEQ7lc7",
        "outputId": "45ae786c-0aa6-4e7a-b616-5d94ef283f40"
      },
      "execution_count": null,
      "outputs": [
        {
          "output_type": "execute_result",
          "data": {
            "text/plain": [
              "106"
            ]
          },
          "metadata": {},
          "execution_count": 14
        }
      ]
    },
    {
      "cell_type": "code",
      "source": [
        "from sklearn.metrics import confusion_matrix, classification_report\n",
        "\n",
        "# Assuming you have ground truth labels (true_labels) and predicted labels (predictions)\n",
        "true_labels = test_data.classes\n",
        "predicted_labels = (predictions > 0.5).astype(int)  # Adjust the threshold as needed\n",
        "\n",
        "# Calculate confusion matrix\n",
        "cm = confusion_matrix(true_labels, predicted_labels)\n",
        "\n",
        "# Print confusion matrix\n",
        "print(\"Confusion Matrix:\")\n",
        "print(cm)\n",
        "\n",
        "# Print classification report\n",
        "print(\"Classification Report:\")\n",
        "print(classification_report(true_labels, predicted_labels))"
      ],
      "metadata": {
        "colab": {
          "base_uri": "https://localhost:8080/"
        },
        "id": "UEWGxiZ_75JZ",
        "outputId": "4db8c78f-2d81-4967-a2de-de41a7ef01fe"
      },
      "execution_count": null,
      "outputs": [
        {
          "output_type": "stream",
          "name": "stdout",
          "text": [
            "Confusion Matrix:\n",
            "[[27 32]\n",
            " [27 20]]\n",
            "Classification Report:\n",
            "              precision    recall  f1-score   support\n",
            "\n",
            "           0       0.50      0.46      0.48        59\n",
            "           1       0.38      0.43      0.40        47\n",
            "\n",
            "    accuracy                           0.44       106\n",
            "   macro avg       0.44      0.44      0.44       106\n",
            "weighted avg       0.45      0.44      0.45       106\n",
            "\n"
          ]
        }
      ]
    }
  ]
}